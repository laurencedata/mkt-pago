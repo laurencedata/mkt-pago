{
 "cells": [
  {
   "cell_type": "markdown",
   "metadata": {},
   "source": [
    "## **Marketing - Dados Pago**\n",
    "\n",
    "Análise de dados do 4º Trimestre de 2024 (01/10/24 - 10/12/24)."
   ]
  },
  {
   "cell_type": "markdown",
   "metadata": {},
   "source": [
    "### **Importação dos dados**"
   ]
  },
  {
   "cell_type": "code",
   "execution_count": 1,
   "metadata": {},
   "outputs": [
    {
     "data": {
      "text/html": [
       "<div>\n",
       "<style scoped>\n",
       "    .dataframe tbody tr th:only-of-type {\n",
       "        vertical-align: middle;\n",
       "    }\n",
       "\n",
       "    .dataframe tbody tr th {\n",
       "        vertical-align: top;\n",
       "    }\n",
       "\n",
       "    .dataframe thead th {\n",
       "        text-align: right;\n",
       "    }\n",
       "</style>\n",
       "<table border=\"1\" class=\"dataframe\">\n",
       "  <thead>\n",
       "    <tr style=\"text-align: right;\">\n",
       "      <th></th>\n",
       "      <th>data</th>\n",
       "      <th>visitantes_site</th>\n",
       "      <th>contatos</th>\n",
       "      <th>mqls_diario</th>\n",
       "      <th>mqls_rejeitados</th>\n",
       "      <th>mqls_qualificados</th>\n",
       "      <th>sql</th>\n",
       "      <th>sal</th>\n",
       "      <th>vendas</th>\n",
       "      <th>receita</th>\n",
       "      <th>receita-media-venda</th>\n",
       "      <th>MQL -&gt; SQL</th>\n",
       "    </tr>\n",
       "  </thead>\n",
       "  <tbody>\n",
       "    <tr>\n",
       "      <th>0</th>\n",
       "      <td>01/10/2024</td>\n",
       "      <td>2.248</td>\n",
       "      <td>77</td>\n",
       "      <td>30</td>\n",
       "      <td>14</td>\n",
       "      <td>16</td>\n",
       "      <td>10</td>\n",
       "      <td>6</td>\n",
       "      <td>2</td>\n",
       "      <td>R$ 264,00</td>\n",
       "      <td>R$ 132,00</td>\n",
       "      <td>62,50%</td>\n",
       "    </tr>\n",
       "    <tr>\n",
       "      <th>1</th>\n",
       "      <td>02/10/2024</td>\n",
       "      <td>2.392</td>\n",
       "      <td>105</td>\n",
       "      <td>39</td>\n",
       "      <td>9</td>\n",
       "      <td>30</td>\n",
       "      <td>5</td>\n",
       "      <td>0</td>\n",
       "      <td>2</td>\n",
       "      <td>R$ 594,00</td>\n",
       "      <td>R$ 297,00</td>\n",
       "      <td>16,67%</td>\n",
       "    </tr>\n",
       "    <tr>\n",
       "      <th>2</th>\n",
       "      <td>03/10/2024</td>\n",
       "      <td>2.315</td>\n",
       "      <td>98</td>\n",
       "      <td>40</td>\n",
       "      <td>12</td>\n",
       "      <td>28</td>\n",
       "      <td>4</td>\n",
       "      <td>7</td>\n",
       "      <td>3</td>\n",
       "      <td>R$ 471,00</td>\n",
       "      <td>R$ 157,00</td>\n",
       "      <td>14,29%</td>\n",
       "    </tr>\n",
       "    <tr>\n",
       "      <th>3</th>\n",
       "      <td>04/10/2024</td>\n",
       "      <td>2.086</td>\n",
       "      <td>80</td>\n",
       "      <td>29</td>\n",
       "      <td>12</td>\n",
       "      <td>17</td>\n",
       "      <td>10</td>\n",
       "      <td>2</td>\n",
       "      <td>0</td>\n",
       "      <td>R$ 0,00</td>\n",
       "      <td>R$ 0,00</td>\n",
       "      <td>58,82%</td>\n",
       "    </tr>\n",
       "    <tr>\n",
       "      <th>4</th>\n",
       "      <td>05/10/2024</td>\n",
       "      <td>1.025</td>\n",
       "      <td>79</td>\n",
       "      <td>20</td>\n",
       "      <td>0</td>\n",
       "      <td>20</td>\n",
       "      <td>0</td>\n",
       "      <td>0</td>\n",
       "      <td>0</td>\n",
       "      <td>R$ 0,00</td>\n",
       "      <td>R$ 0,00</td>\n",
       "      <td>0,00%</td>\n",
       "    </tr>\n",
       "  </tbody>\n",
       "</table>\n",
       "</div>"
      ],
      "text/plain": [
       "         data  visitantes_site  contatos  mqls_diario  mqls_rejeitados  \\\n",
       "0  01/10/2024            2.248        77           30               14   \n",
       "1  02/10/2024            2.392       105           39                9   \n",
       "2  03/10/2024            2.315        98           40               12   \n",
       "3  04/10/2024            2.086        80           29               12   \n",
       "4  05/10/2024            1.025        79           20                0   \n",
       "\n",
       "   mqls_qualificados  sql  sal  vendas    receita receita-media-venda  \\\n",
       "0                 16   10    6       2  R$ 264,00           R$ 132,00   \n",
       "1                 30    5    0       2  R$ 594,00           R$ 297,00   \n",
       "2                 28    4    7       3  R$ 471,00           R$ 157,00   \n",
       "3                 17   10    2       0    R$ 0,00             R$ 0,00   \n",
       "4                 20    0    0       0    R$ 0,00             R$ 0,00   \n",
       "\n",
       "  MQL -> SQL  \n",
       "0     62,50%  \n",
       "1     16,67%  \n",
       "2     14,29%  \n",
       "3     58,82%  \n",
       "4      0,00%  "
      ]
     },
     "execution_count": 1,
     "metadata": {},
     "output_type": "execute_result"
    }
   ],
   "source": [
    "import pandas as pd\n",
    "\n",
    "data = pd.read_csv(\"mkt-pago.csv\")\n",
    "data.head()"
   ]
  },
  {
   "cell_type": "code",
   "execution_count": 2,
   "metadata": {},
   "outputs": [],
   "source": [
    "data = data.rename(columns={\"MQL -> SQL\": \"mql_sql\"})"
   ]
  },
  {
   "cell_type": "code",
   "execution_count": 3,
   "metadata": {},
   "outputs": [
    {
     "name": "stdout",
     "output_type": "stream",
     "text": [
      "<class 'pandas.core.frame.DataFrame'>\n",
      "RangeIndex: 70 entries, 0 to 69\n",
      "Data columns (total 12 columns):\n",
      " #   Column               Non-Null Count  Dtype  \n",
      "---  ------               --------------  -----  \n",
      " 0   data                 70 non-null     object \n",
      " 1   visitantes_site      70 non-null     float64\n",
      " 2   contatos             70 non-null     int64  \n",
      " 3   mqls_diario          70 non-null     int64  \n",
      " 4   mqls_rejeitados      70 non-null     int64  \n",
      " 5   mqls_qualificados    70 non-null     int64  \n",
      " 6   sql                  70 non-null     int64  \n",
      " 7   sal                  70 non-null     int64  \n",
      " 8   vendas               70 non-null     int64  \n",
      " 9   receita              70 non-null     object \n",
      " 10  receita-media-venda  70 non-null     object \n",
      " 11  mql_sql              70 non-null     object \n",
      "dtypes: float64(1), int64(7), object(4)\n",
      "memory usage: 6.7+ KB\n"
     ]
    }
   ],
   "source": [
    "data.info()"
   ]
  },
  {
   "cell_type": "code",
   "execution_count": 4,
   "metadata": {},
   "outputs": [
    {
     "data": {
      "text/html": [
       "<div>\n",
       "<style scoped>\n",
       "    .dataframe tbody tr th:only-of-type {\n",
       "        vertical-align: middle;\n",
       "    }\n",
       "\n",
       "    .dataframe tbody tr th {\n",
       "        vertical-align: top;\n",
       "    }\n",
       "\n",
       "    .dataframe thead th {\n",
       "        text-align: right;\n",
       "    }\n",
       "</style>\n",
       "<table border=\"1\" class=\"dataframe\">\n",
       "  <thead>\n",
       "    <tr style=\"text-align: right;\">\n",
       "      <th></th>\n",
       "      <th>data</th>\n",
       "      <th>visitantes_site</th>\n",
       "      <th>contatos</th>\n",
       "      <th>mqls_diario</th>\n",
       "      <th>mqls_rejeitados</th>\n",
       "      <th>mqls_qualificados</th>\n",
       "      <th>sql</th>\n",
       "      <th>sal</th>\n",
       "      <th>vendas</th>\n",
       "      <th>receita</th>\n",
       "      <th>receita-media-venda</th>\n",
       "      <th>mql_sql</th>\n",
       "    </tr>\n",
       "  </thead>\n",
       "  <tbody>\n",
       "    <tr>\n",
       "      <th>65</th>\n",
       "      <td>05/12/2024</td>\n",
       "      <td>1.736</td>\n",
       "      <td>57</td>\n",
       "      <td>27</td>\n",
       "      <td>9</td>\n",
       "      <td>18</td>\n",
       "      <td>6</td>\n",
       "      <td>5</td>\n",
       "      <td>2</td>\n",
       "      <td>R$ 287,00</td>\n",
       "      <td>R$ 143,50</td>\n",
       "      <td>33,33%</td>\n",
       "    </tr>\n",
       "    <tr>\n",
       "      <th>66</th>\n",
       "      <td>06/12/2024</td>\n",
       "      <td>1.541</td>\n",
       "      <td>56</td>\n",
       "      <td>18</td>\n",
       "      <td>7</td>\n",
       "      <td>11</td>\n",
       "      <td>6</td>\n",
       "      <td>4</td>\n",
       "      <td>3</td>\n",
       "      <td>R$ 452,00</td>\n",
       "      <td>R$ 150,67</td>\n",
       "      <td>54,55%</td>\n",
       "    </tr>\n",
       "    <tr>\n",
       "      <th>67</th>\n",
       "      <td>07/12/2024</td>\n",
       "      <td>530.000</td>\n",
       "      <td>53</td>\n",
       "      <td>17</td>\n",
       "      <td>0</td>\n",
       "      <td>17</td>\n",
       "      <td>0</td>\n",
       "      <td>0</td>\n",
       "      <td>0</td>\n",
       "      <td>R$ 0,00</td>\n",
       "      <td>R$ 0,00</td>\n",
       "      <td>0,00%</td>\n",
       "    </tr>\n",
       "    <tr>\n",
       "      <th>68</th>\n",
       "      <td>08/12/2024</td>\n",
       "      <td>286.000</td>\n",
       "      <td>42</td>\n",
       "      <td>8</td>\n",
       "      <td>0</td>\n",
       "      <td>8</td>\n",
       "      <td>0</td>\n",
       "      <td>0</td>\n",
       "      <td>0</td>\n",
       "      <td>R$ 0,00</td>\n",
       "      <td>R$ 0,00</td>\n",
       "      <td>0,00%</td>\n",
       "    </tr>\n",
       "    <tr>\n",
       "      <th>69</th>\n",
       "      <td>09/12/2024</td>\n",
       "      <td>1.921</td>\n",
       "      <td>59</td>\n",
       "      <td>22</td>\n",
       "      <td>9</td>\n",
       "      <td>13</td>\n",
       "      <td>9</td>\n",
       "      <td>1</td>\n",
       "      <td>5</td>\n",
       "      <td>R$ 1.794,68</td>\n",
       "      <td>R$ 358,94</td>\n",
       "      <td>69,23%</td>\n",
       "    </tr>\n",
       "  </tbody>\n",
       "</table>\n",
       "</div>"
      ],
      "text/plain": [
       "          data  visitantes_site  contatos  mqls_diario  mqls_rejeitados  \\\n",
       "65  05/12/2024            1.736        57           27                9   \n",
       "66  06/12/2024            1.541        56           18                7   \n",
       "67  07/12/2024          530.000        53           17                0   \n",
       "68  08/12/2024          286.000        42            8                0   \n",
       "69  09/12/2024            1.921        59           22                9   \n",
       "\n",
       "    mqls_qualificados  sql  sal  vendas      receita receita-media-venda  \\\n",
       "65                 18    6    5       2    R$ 287,00           R$ 143,50   \n",
       "66                 11    6    4       3    R$ 452,00           R$ 150,67   \n",
       "67                 17    0    0       0      R$ 0,00             R$ 0,00   \n",
       "68                  8    0    0       0      R$ 0,00             R$ 0,00   \n",
       "69                 13    9    1       5  R$ 1.794,68           R$ 358,94   \n",
       "\n",
       "   mql_sql  \n",
       "65  33,33%  \n",
       "66  54,55%  \n",
       "67   0,00%  \n",
       "68   0,00%  \n",
       "69  69,23%  "
      ]
     },
     "execution_count": 4,
     "metadata": {},
     "output_type": "execute_result"
    }
   ],
   "source": [
    "data.tail()"
   ]
  },
  {
   "cell_type": "code",
   "execution_count": 5,
   "metadata": {},
   "outputs": [
    {
     "data": {
      "text/html": [
       "<div>\n",
       "<style scoped>\n",
       "    .dataframe tbody tr th:only-of-type {\n",
       "        vertical-align: middle;\n",
       "    }\n",
       "\n",
       "    .dataframe tbody tr th {\n",
       "        vertical-align: top;\n",
       "    }\n",
       "\n",
       "    .dataframe thead th {\n",
       "        text-align: right;\n",
       "    }\n",
       "</style>\n",
       "<table border=\"1\" class=\"dataframe\">\n",
       "  <thead>\n",
       "    <tr style=\"text-align: right;\">\n",
       "      <th></th>\n",
       "      <th>visitantes_site</th>\n",
       "      <th>contatos</th>\n",
       "      <th>mqls_diario</th>\n",
       "      <th>mqls_rejeitados</th>\n",
       "      <th>mqls_qualificados</th>\n",
       "      <th>sql</th>\n",
       "      <th>sal</th>\n",
       "      <th>vendas</th>\n",
       "    </tr>\n",
       "  </thead>\n",
       "  <tbody>\n",
       "    <tr>\n",
       "      <th>count</th>\n",
       "      <td>70.000000</td>\n",
       "      <td>70.000000</td>\n",
       "      <td>70.000000</td>\n",
       "      <td>70.000000</td>\n",
       "      <td>70.000000</td>\n",
       "      <td>70.000000</td>\n",
       "      <td>70.000000</td>\n",
       "      <td>70.000000</td>\n",
       "    </tr>\n",
       "    <tr>\n",
       "      <th>mean</th>\n",
       "      <td>107.984771</td>\n",
       "      <td>64.242857</td>\n",
       "      <td>24.614286</td>\n",
       "      <td>6.885714</td>\n",
       "      <td>17.728571</td>\n",
       "      <td>4.500000</td>\n",
       "      <td>3.057143</td>\n",
       "      <td>2.157143</td>\n",
       "    </tr>\n",
       "    <tr>\n",
       "      <th>std</th>\n",
       "      <td>260.704413</td>\n",
       "      <td>18.683819</td>\n",
       "      <td>7.929568</td>\n",
       "      <td>6.398693</td>\n",
       "      <td>6.505118</td>\n",
       "      <td>3.843873</td>\n",
       "      <td>2.786540</td>\n",
       "      <td>2.356832</td>\n",
       "    </tr>\n",
       "    <tr>\n",
       "      <th>min</th>\n",
       "      <td>1.000000</td>\n",
       "      <td>24.000000</td>\n",
       "      <td>8.000000</td>\n",
       "      <td>0.000000</td>\n",
       "      <td>-2.000000</td>\n",
       "      <td>0.000000</td>\n",
       "      <td>0.000000</td>\n",
       "      <td>0.000000</td>\n",
       "    </tr>\n",
       "    <tr>\n",
       "      <th>25%</th>\n",
       "      <td>1.724000</td>\n",
       "      <td>50.000000</td>\n",
       "      <td>19.000000</td>\n",
       "      <td>0.000000</td>\n",
       "      <td>14.250000</td>\n",
       "      <td>0.000000</td>\n",
       "      <td>0.000000</td>\n",
       "      <td>0.000000</td>\n",
       "    </tr>\n",
       "    <tr>\n",
       "      <th>50%</th>\n",
       "      <td>2.194000</td>\n",
       "      <td>65.000000</td>\n",
       "      <td>24.000000</td>\n",
       "      <td>6.500000</td>\n",
       "      <td>17.000000</td>\n",
       "      <td>5.000000</td>\n",
       "      <td>3.000000</td>\n",
       "      <td>2.000000</td>\n",
       "    </tr>\n",
       "    <tr>\n",
       "      <th>75%</th>\n",
       "      <td>3.363250</td>\n",
       "      <td>78.000000</td>\n",
       "      <td>30.750000</td>\n",
       "      <td>11.750000</td>\n",
       "      <td>22.750000</td>\n",
       "      <td>7.000000</td>\n",
       "      <td>5.000000</td>\n",
       "      <td>3.000000</td>\n",
       "    </tr>\n",
       "    <tr>\n",
       "      <th>max</th>\n",
       "      <td>957.000000</td>\n",
       "      <td>105.000000</td>\n",
       "      <td>43.000000</td>\n",
       "      <td>33.000000</td>\n",
       "      <td>32.000000</td>\n",
       "      <td>15.000000</td>\n",
       "      <td>9.000000</td>\n",
       "      <td>11.000000</td>\n",
       "    </tr>\n",
       "  </tbody>\n",
       "</table>\n",
       "</div>"
      ],
      "text/plain": [
       "       visitantes_site    contatos  mqls_diario  mqls_rejeitados  \\\n",
       "count        70.000000   70.000000    70.000000        70.000000   \n",
       "mean        107.984771   64.242857    24.614286         6.885714   \n",
       "std         260.704413   18.683819     7.929568         6.398693   \n",
       "min           1.000000   24.000000     8.000000         0.000000   \n",
       "25%           1.724000   50.000000    19.000000         0.000000   \n",
       "50%           2.194000   65.000000    24.000000         6.500000   \n",
       "75%           3.363250   78.000000    30.750000        11.750000   \n",
       "max         957.000000  105.000000    43.000000        33.000000   \n",
       "\n",
       "       mqls_qualificados        sql        sal     vendas  \n",
       "count          70.000000  70.000000  70.000000  70.000000  \n",
       "mean           17.728571   4.500000   3.057143   2.157143  \n",
       "std             6.505118   3.843873   2.786540   2.356832  \n",
       "min            -2.000000   0.000000   0.000000   0.000000  \n",
       "25%            14.250000   0.000000   0.000000   0.000000  \n",
       "50%            17.000000   5.000000   3.000000   2.000000  \n",
       "75%            22.750000   7.000000   5.000000   3.000000  \n",
       "max            32.000000  15.000000   9.000000  11.000000  "
      ]
     },
     "execution_count": 5,
     "metadata": {},
     "output_type": "execute_result"
    }
   ],
   "source": [
    "data.describe()"
   ]
  },
  {
   "cell_type": "markdown",
   "metadata": {},
   "source": [
    "### **Tratamento e Limpeza dos dados**"
   ]
  },
  {
   "cell_type": "code",
   "execution_count": 6,
   "metadata": {},
   "outputs": [],
   "source": [
    "data[\"data\"] = pd.to_datetime(data[\"data\"], dayfirst=True) # Formatação para datetime"
   ]
  },
  {
   "cell_type": "code",
   "execution_count": 7,
   "metadata": {},
   "outputs": [],
   "source": [
    "# Limpeza e conversão - Receita\n",
    "data[\"receita\"] = data[\"receita\"].str.replace(\"R\\$\", \"\", regex=True) # Remove R$ e espaços em branco\n",
    "data[\"receita\"] = data[\"receita\"].str.replace(\".\", \"\", regex=False)  # Remove pontos de milhares\n",
    "data[\"receita\"] = data[\"receita\"].str.replace(\",\", \".\", regex=False)  # Substitui vírgula por ponto\n",
    "data[\"receita\"] = pd.to_numeric(data[\"receita\"], errors=\"coerce\") # Converte e detecta valores inválidos"
   ]
  },
  {
   "cell_type": "code",
   "execution_count": 8,
   "metadata": {},
   "outputs": [],
   "source": [
    "# Limpeza e conversão - Ticket Médio\n",
    "data[\"receita-media-venda\"] = data[\"receita-media-venda\"].str.replace(\"R\\$\", \"\", regex=True) # Remove R$ e espaços em branco\n",
    "data[\"receita-media-venda\"] = data[\"receita-media-venda\"].str.replace(\".\", \"\", regex=False)  # Remove pontos de milhares\n",
    "data[\"receita-media-venda\"] = data[\"receita-media-venda\"].str.replace(\",\", \".\", regex=False)  # Substitui vírgula por ponto\n",
    "data[\"receita-media-venda\"] = pd.to_numeric(data[\"receita-media-venda\"], errors=\"coerce\") # Converte e detecta valores inválidos"
   ]
  },
  {
   "cell_type": "code",
   "execution_count": 9,
   "metadata": {},
   "outputs": [
    {
     "data": {
      "text/html": [
       "<div>\n",
       "<style scoped>\n",
       "    .dataframe tbody tr th:only-of-type {\n",
       "        vertical-align: middle;\n",
       "    }\n",
       "\n",
       "    .dataframe tbody tr th {\n",
       "        vertical-align: top;\n",
       "    }\n",
       "\n",
       "    .dataframe thead th {\n",
       "        text-align: right;\n",
       "    }\n",
       "</style>\n",
       "<table border=\"1\" class=\"dataframe\">\n",
       "  <thead>\n",
       "    <tr style=\"text-align: right;\">\n",
       "      <th></th>\n",
       "      <th>data</th>\n",
       "      <th>visitantes_site</th>\n",
       "      <th>contatos</th>\n",
       "      <th>mqls_diario</th>\n",
       "      <th>mqls_rejeitados</th>\n",
       "      <th>mqls_qualificados</th>\n",
       "      <th>sql</th>\n",
       "      <th>sal</th>\n",
       "      <th>vendas</th>\n",
       "      <th>receita</th>\n",
       "      <th>receita-media-venda</th>\n",
       "      <th>mql_sql</th>\n",
       "    </tr>\n",
       "  </thead>\n",
       "  <tbody>\n",
       "    <tr>\n",
       "      <th>0</th>\n",
       "      <td>2024-10-01</td>\n",
       "      <td>2.248</td>\n",
       "      <td>77</td>\n",
       "      <td>30</td>\n",
       "      <td>14</td>\n",
       "      <td>16</td>\n",
       "      <td>10</td>\n",
       "      <td>6</td>\n",
       "      <td>2</td>\n",
       "      <td>264.0</td>\n",
       "      <td>132.0</td>\n",
       "      <td>62,50%</td>\n",
       "    </tr>\n",
       "    <tr>\n",
       "      <th>1</th>\n",
       "      <td>2024-10-02</td>\n",
       "      <td>2.392</td>\n",
       "      <td>105</td>\n",
       "      <td>39</td>\n",
       "      <td>9</td>\n",
       "      <td>30</td>\n",
       "      <td>5</td>\n",
       "      <td>0</td>\n",
       "      <td>2</td>\n",
       "      <td>594.0</td>\n",
       "      <td>297.0</td>\n",
       "      <td>16,67%</td>\n",
       "    </tr>\n",
       "    <tr>\n",
       "      <th>2</th>\n",
       "      <td>2024-10-03</td>\n",
       "      <td>2.315</td>\n",
       "      <td>98</td>\n",
       "      <td>40</td>\n",
       "      <td>12</td>\n",
       "      <td>28</td>\n",
       "      <td>4</td>\n",
       "      <td>7</td>\n",
       "      <td>3</td>\n",
       "      <td>471.0</td>\n",
       "      <td>157.0</td>\n",
       "      <td>14,29%</td>\n",
       "    </tr>\n",
       "    <tr>\n",
       "      <th>3</th>\n",
       "      <td>2024-10-04</td>\n",
       "      <td>2.086</td>\n",
       "      <td>80</td>\n",
       "      <td>29</td>\n",
       "      <td>12</td>\n",
       "      <td>17</td>\n",
       "      <td>10</td>\n",
       "      <td>2</td>\n",
       "      <td>0</td>\n",
       "      <td>0.0</td>\n",
       "      <td>0.0</td>\n",
       "      <td>58,82%</td>\n",
       "    </tr>\n",
       "    <tr>\n",
       "      <th>4</th>\n",
       "      <td>2024-10-05</td>\n",
       "      <td>1.025</td>\n",
       "      <td>79</td>\n",
       "      <td>20</td>\n",
       "      <td>0</td>\n",
       "      <td>20</td>\n",
       "      <td>0</td>\n",
       "      <td>0</td>\n",
       "      <td>0</td>\n",
       "      <td>0.0</td>\n",
       "      <td>0.0</td>\n",
       "      <td>0,00%</td>\n",
       "    </tr>\n",
       "  </tbody>\n",
       "</table>\n",
       "</div>"
      ],
      "text/plain": [
       "        data  visitantes_site  contatos  mqls_diario  mqls_rejeitados  \\\n",
       "0 2024-10-01            2.248        77           30               14   \n",
       "1 2024-10-02            2.392       105           39                9   \n",
       "2 2024-10-03            2.315        98           40               12   \n",
       "3 2024-10-04            2.086        80           29               12   \n",
       "4 2024-10-05            1.025        79           20                0   \n",
       "\n",
       "   mqls_qualificados  sql  sal  vendas  receita  receita-media-venda mql_sql  \n",
       "0                 16   10    6       2    264.0                132.0  62,50%  \n",
       "1                 30    5    0       2    594.0                297.0  16,67%  \n",
       "2                 28    4    7       3    471.0                157.0  14,29%  \n",
       "3                 17   10    2       0      0.0                  0.0  58,82%  \n",
       "4                 20    0    0       0      0.0                  0.0   0,00%  "
      ]
     },
     "execution_count": 9,
     "metadata": {},
     "output_type": "execute_result"
    }
   ],
   "source": [
    "data.head()"
   ]
  },
  {
   "cell_type": "code",
   "execution_count": 10,
   "metadata": {},
   "outputs": [],
   "source": [
    "# Limpeza dos dados\n",
    "data[\"mql_sql\"] = data[\"mql_sql\"].str.strip()  # Remove espaços\n",
    "data[\"mql_sql\"] = data[\"mql_sql\"].str.replace(\"%\", \"\", regex=False)  # Remove símbolo de porcentagem\n",
    "data[\"mql_sql\"] = data[\"mql_sql\"].str.replace(\"[^0-9.,]\", \"\", regex=True)  # Remove caracteres inválidos\n",
    "data[\"mql_sql\"] = data[\"mql_sql\"].str.replace(\",\", \".\")  # Substitui vírgula por ponto\n",
    "\n",
    "# Converte para numérico\n",
    "data[\"mql_sql\"] = pd.to_numeric(data[\"mql_sql\"], errors=\"coerce\")\n",
    "\n",
    "# Transforma em decimal\n",
    "data[\"mql_sql\"] = data[\"mql_sql\"] / 100"
   ]
  },
  {
   "cell_type": "code",
   "execution_count": 11,
   "metadata": {},
   "outputs": [
    {
     "data": {
      "text/html": [
       "<div>\n",
       "<style scoped>\n",
       "    .dataframe tbody tr th:only-of-type {\n",
       "        vertical-align: middle;\n",
       "    }\n",
       "\n",
       "    .dataframe tbody tr th {\n",
       "        vertical-align: top;\n",
       "    }\n",
       "\n",
       "    .dataframe thead th {\n",
       "        text-align: right;\n",
       "    }\n",
       "</style>\n",
       "<table border=\"1\" class=\"dataframe\">\n",
       "  <thead>\n",
       "    <tr style=\"text-align: right;\">\n",
       "      <th></th>\n",
       "      <th>data</th>\n",
       "      <th>visitantes_site</th>\n",
       "      <th>contatos</th>\n",
       "      <th>mqls_diario</th>\n",
       "      <th>mqls_rejeitados</th>\n",
       "      <th>mqls_qualificados</th>\n",
       "      <th>sql</th>\n",
       "      <th>sal</th>\n",
       "      <th>vendas</th>\n",
       "      <th>receita</th>\n",
       "      <th>receita-media-venda</th>\n",
       "      <th>mql_sql</th>\n",
       "    </tr>\n",
       "  </thead>\n",
       "  <tbody>\n",
       "    <tr>\n",
       "      <th>0</th>\n",
       "      <td>2024-10-01</td>\n",
       "      <td>2.248</td>\n",
       "      <td>77</td>\n",
       "      <td>30</td>\n",
       "      <td>14</td>\n",
       "      <td>16</td>\n",
       "      <td>10</td>\n",
       "      <td>6</td>\n",
       "      <td>2</td>\n",
       "      <td>264.0</td>\n",
       "      <td>132.0</td>\n",
       "      <td>0.6250</td>\n",
       "    </tr>\n",
       "    <tr>\n",
       "      <th>1</th>\n",
       "      <td>2024-10-02</td>\n",
       "      <td>2.392</td>\n",
       "      <td>105</td>\n",
       "      <td>39</td>\n",
       "      <td>9</td>\n",
       "      <td>30</td>\n",
       "      <td>5</td>\n",
       "      <td>0</td>\n",
       "      <td>2</td>\n",
       "      <td>594.0</td>\n",
       "      <td>297.0</td>\n",
       "      <td>0.1667</td>\n",
       "    </tr>\n",
       "    <tr>\n",
       "      <th>2</th>\n",
       "      <td>2024-10-03</td>\n",
       "      <td>2.315</td>\n",
       "      <td>98</td>\n",
       "      <td>40</td>\n",
       "      <td>12</td>\n",
       "      <td>28</td>\n",
       "      <td>4</td>\n",
       "      <td>7</td>\n",
       "      <td>3</td>\n",
       "      <td>471.0</td>\n",
       "      <td>157.0</td>\n",
       "      <td>0.1429</td>\n",
       "    </tr>\n",
       "    <tr>\n",
       "      <th>3</th>\n",
       "      <td>2024-10-04</td>\n",
       "      <td>2.086</td>\n",
       "      <td>80</td>\n",
       "      <td>29</td>\n",
       "      <td>12</td>\n",
       "      <td>17</td>\n",
       "      <td>10</td>\n",
       "      <td>2</td>\n",
       "      <td>0</td>\n",
       "      <td>0.0</td>\n",
       "      <td>0.0</td>\n",
       "      <td>0.5882</td>\n",
       "    </tr>\n",
       "    <tr>\n",
       "      <th>4</th>\n",
       "      <td>2024-10-05</td>\n",
       "      <td>1.025</td>\n",
       "      <td>79</td>\n",
       "      <td>20</td>\n",
       "      <td>0</td>\n",
       "      <td>20</td>\n",
       "      <td>0</td>\n",
       "      <td>0</td>\n",
       "      <td>0</td>\n",
       "      <td>0.0</td>\n",
       "      <td>0.0</td>\n",
       "      <td>0.0000</td>\n",
       "    </tr>\n",
       "  </tbody>\n",
       "</table>\n",
       "</div>"
      ],
      "text/plain": [
       "        data  visitantes_site  contatos  mqls_diario  mqls_rejeitados  \\\n",
       "0 2024-10-01            2.248        77           30               14   \n",
       "1 2024-10-02            2.392       105           39                9   \n",
       "2 2024-10-03            2.315        98           40               12   \n",
       "3 2024-10-04            2.086        80           29               12   \n",
       "4 2024-10-05            1.025        79           20                0   \n",
       "\n",
       "   mqls_qualificados  sql  sal  vendas  receita  receita-media-venda  mql_sql  \n",
       "0                 16   10    6       2    264.0                132.0   0.6250  \n",
       "1                 30    5    0       2    594.0                297.0   0.1667  \n",
       "2                 28    4    7       3    471.0                157.0   0.1429  \n",
       "3                 17   10    2       0      0.0                  0.0   0.5882  \n",
       "4                 20    0    0       0      0.0                  0.0   0.0000  "
      ]
     },
     "execution_count": 11,
     "metadata": {},
     "output_type": "execute_result"
    }
   ],
   "source": [
    "data.head(5)"
   ]
  },
  {
   "cell_type": "code",
   "execution_count": 12,
   "metadata": {},
   "outputs": [
    {
     "data": {
      "text/plain": [
       "np.float64(40762.29)"
      ]
     },
     "execution_count": 12,
     "metadata": {},
     "output_type": "execute_result"
    }
   ],
   "source": [
    "data[\"receita\"].sum()"
   ]
  },
  {
   "cell_type": "code",
   "execution_count": 13,
   "metadata": {},
   "outputs": [
    {
     "name": "stdout",
     "output_type": "stream",
     "text": [
      "<class 'pandas.core.frame.DataFrame'>\n",
      "RangeIndex: 70 entries, 0 to 69\n",
      "Data columns (total 12 columns):\n",
      " #   Column               Non-Null Count  Dtype         \n",
      "---  ------               --------------  -----         \n",
      " 0   data                 70 non-null     datetime64[ns]\n",
      " 1   visitantes_site      70 non-null     float64       \n",
      " 2   contatos             70 non-null     int64         \n",
      " 3   mqls_diario          70 non-null     int64         \n",
      " 4   mqls_rejeitados      70 non-null     int64         \n",
      " 5   mqls_qualificados    70 non-null     int64         \n",
      " 6   sql                  70 non-null     int64         \n",
      " 7   sal                  70 non-null     int64         \n",
      " 8   vendas               70 non-null     int64         \n",
      " 9   receita              70 non-null     float64       \n",
      " 10  receita-media-venda  70 non-null     float64       \n",
      " 11  mql_sql              70 non-null     float64       \n",
      "dtypes: datetime64[ns](1), float64(4), int64(7)\n",
      "memory usage: 6.7 KB\n"
     ]
    }
   ],
   "source": [
    "data.info()"
   ]
  },
  {
   "cell_type": "markdown",
   "metadata": {},
   "source": [
    "# **Análises**"
   ]
  },
  {
   "cell_type": "markdown",
   "metadata": {},
   "source": [
    "## **Correlações entre Variáveis** \n",
    "\n",
    "Abaixo são compartilhados dois gráficos de relações entre as seguintes variáveis:\n",
    "\n",
    "- Relação entre MQLs qualificados e SQLS;\n",
    "- Relação entre MQLs qualificados e Vendas."
   ]
  },
  {
   "cell_type": "code",
   "execution_count": 14,
   "metadata": {},
   "outputs": [
    {
     "data": {
      "image/png": "[encoded data removed]",
      "text/plain": [
       "<Figure size 640x480 with 1 Axes>"
      ]
     },
     "metadata": {},
     "output_type": "display_data"
    }
   ],
   "source": [
    "import matplotlib.pyplot as plt\n",
    "import seaborn as sns\n",
    "\n",
    "# Relação entre MQLs qualificados e SQLs\n",
    "sns.regplot(x=\"mqls_qualificados\", y=\"sql\", data=data)\n",
    "plt.title(\"Relação entre MQLs qualificados e SQLs\")\n",
    "plt.show()"
   ]
  },
  {
   "cell_type": "markdown",
   "metadata": {},
   "source": [
    "### **1. Relação entre MQLs qualificados e SQLs**\n",
    "\n",
    "- **Linha azul reta:** Mostra a tendência da relação entre MQLs qualificados e SQLs. Aqui, há uma leve inclinação positiva na linha, indicando que, em geral, um aumento nos MQLs qualificados tende a acompanhar um aumento no número de SQLs. Outro ponto são SQLs gerados com nenhum MQL, esses SQLs podem ser leads qualificados de dias anteriores que avançaram no funil para SQL em um momento posterior. \n",
    "\n",
    "- **Pontos fora do fundo azul:** Indicam obsevações que não seguem o padrão esperado pelo modelo linear. Isso sugere variações nos dados que o modelo linear não captura bem.\n",
    "\n",
    "- **Fundo azul (intervalo de confiança):** Assim como no primeiro gráfico, representa a incerteza do modelo. Neste caso, o intervalo é relativamente estreito, indicando maior confiança na relação linear.\n",
    "\n",
    "### **Interpretação:**\n",
    "\n",
    "- Há uma correlação fraca, mas positiva, entre MQLs qualificados e SQLs. Ou seja, mais MQLs qualificados geralmente levam a um leve aumento nos SQLs, mas a relação não é muito forte ou garantida."
   ]
  },
  {
   "cell_type": "markdown",
   "metadata": {},
   "source": [
    "### **2. Relação entre MQLs qualificados e Vendas**\n",
    "\n",
    "- **Linha azul reta:** Neste caso, a linha é quase horizontal, sugerindo que não há uma correlação forte entre o número de MQLs qualificados e o aumento de receita.\n",
    "- **Pontos fora do fundo azul (região sombreada):** Esses pontos indicam observações que estão fora da área de confiança do modelo linear. Eles podem ser considerados \"outliers\" no contexto do ajuste, ou seja, valores que se desviam da tendência média.\n",
    "\n",
    "- **Fundo azul (intervalo de confiança):** Representa o intervalo de confiança para o modelo linear. Quanto mais largo o fundo azul, maior a incerteza no ajuste do modelo para os dados."
   ]
  },
  {
   "cell_type": "code",
   "execution_count": 15,
   "metadata": {},
   "outputs": [
    {
     "data": {
      "image/png": "[encoded data removed]",
      "text/plain": [
       "<Figure size 640x480 with 1 Axes>"
      ]
     },
     "metadata": {},
     "output_type": "display_data"
    }
   ],
   "source": [
    "# Relação entre MQLs qualificados e Vendas\n",
    "sns.regplot(x=\"mqls_qualificados\", y=\"vendas\", data=data)\n",
    "plt.title(\"Relação entre MQLs qualificados e Vendas\")\n",
    "plt.show()"
   ]
  },
  {
   "cell_type": "markdown",
   "metadata": {},
   "source": [
    "### **3. Correlação entre as Variáveis**\n",
    "\n",
    "A correlação mede a força e a direção de uma relação linear entre duas variáveis. Os valores variam entre ```-1 e 1:```\n",
    "\n",
    "**1:** Correlação perfeitamente positiva (as duas variáveis crescem juntas de forma linear).\n",
    "\n",
    "**0:** Nenhuma correlação linear (as variáveis não têm relação linear significativa).\n",
    "\n",
    "**-1:** Correlação perfeitamente negativa (uma cresce enquanto a outra diminui de forma linear)."
   ]
  },
  {
   "cell_type": "code",
   "execution_count": 16,
   "metadata": {},
   "outputs": [
    {
     "name": "stdout",
     "output_type": "stream",
     "text": [
      "                   mqls_qualificados       sql    vendas\n",
      "mqls_qualificados           1.000000  0.101140  0.015111\n",
      "sql                         0.101140  1.000000  0.549515\n",
      "vendas                      0.015111  0.549515  1.000000\n"
     ]
    }
   ],
   "source": [
    "# Correlação \n",
    "correlacao = data[[\"mqls_qualificados\", \"sql\", \"vendas\"]].corr()\n",
    "print(correlacao)"
   ]
  },
  {
   "cell_type": "markdown",
   "metadata": {},
   "source": [
    "### **4. Interpretação dos Resultados:**\n",
    "\n",
    "#### a. Correlação entre **mqls_qualificados, SQL e Vendas**:\n",
    "\n",
    "```mqls_qualificados``` e ```sql:``` \n",
    "\n",
    "Correlação = 0.101.\n",
    "\n",
    "- Correlação muito baixa. Indica que não há nenhuma relação linear forte entre MQLs qualificados e SQLs. O aumento ou diminuição de  MQLs qualificados não afeta diretamente os SQLs.\n",
    "\n",
    "```mqls_qualificados``` e ```vendas:``` \n",
    "\n",
    "Correlação = 0.015.\n",
    "\n",
    "- Correlação quase inexistente. Isso sugere que o número de MQLs qualificados tem pouca ou nenhuma influência direta nas vendas.\n",
    "\n",
    "\n",
    "#### b. Correlação entre **SQL e Vendas**:\n",
    "\n",
    "```sql``` e ```vendas:```\n",
    "\n",
    "Correlação = 0.550.\n",
    "\n",
    "- Moderada. Isso indica que SQLs têm alguma relação com vendas: quanto mais SQLs são gerados, maior tende a ser o número de vendas (mas não é uma relação muito forte). \n",
    "- O processo de conversão de SQL para vendas está funcionando relativamente bem, mas pode ser otimizado. Por exemplo: melhorar o engajamento com SQLs ou revisar as abordagens da equipe de vendas."
   ]
  },
  {
   "cell_type": "markdown",
   "metadata": {},
   "source": [
    "### **Conclusão** \n",
    "\n",
    "**O aumento de MQLs qualificados está diretamente relacionado ao aumento de SQLs e vendas, ou há um limite de saturação?**\n",
    "\n",
    "Com base na análise dos dados e gráficos, podemos observar que o aumento de MQLs qualificados não está diretamente relacionado ao aumento proporcional de SQLs e vendas. \n",
    "\n",
    "A correlação entre MQLs qualificados e vendas foi muito baixa, indicando que simplesmente aumentar a quantidade de MQLs não garante um aumento automático nas vendas.\n",
    "\n",
    "- **MQLs qualificados e Vendas:** Não há uma relação clara e forte entre o número de MQLs qualificados e a receita gerada. Fatores externos (como qualidade do MQL ou ticket médio) podem estar influenciando mais a receita.\n",
    "\n",
    "- **MQLs qualificados e SQLs:** Há uma relação positiva, mas fraca, indicando que aumentar os MQLs qualificados podee ajudar a gerar mais SQLs, mas não é uma relação diretamente proporcional ou garantida.\n",
    "\n",
    "Essas análises indicam que, além de focar na quantidade de MQLs qualificados, é fundamental investigar a qualidade desses leads e otimizar as etapas subsequentes do funil. Mais MQLs não significa, necessariamente, maior faturamento, assim como um menor volume de leads não implica, obrigatoriamente, em queda de receita. \n",
    "\n",
    "O impacto no faturamento é relativo e depende de diversos fatores, como a qualidade dos leads gerados, a eficiência da equipe de vendas e o alinhamento entre as equipes de marketing e vendas para garantir que os leads sejam bem trabalhados em cada etapa do funil."
   ]
  },
  {
   "cell_type": "markdown",
   "metadata": {},
   "source": [
    "# **Análise de Receita**"
   ]
  },
  {
   "cell_type": "code",
   "execution_count": 17,
   "metadata": {},
   "outputs": [],
   "source": [
    "# !pip install scipy"
   ]
  },
  {
   "cell_type": "code",
   "execution_count": 18,
   "metadata": {},
   "outputs": [
    {
     "name": "stdout",
     "output_type": "stream",
     "text": [
      "Coeficiente de Correlação de Pearson: -0.04067739609057983\n",
      "Valor p: 0.7381214724398705\n"
     ]
    }
   ],
   "source": [
    "from scipy.stats import pearsonr\n",
    "\n",
    "# Cálculo do coeficiente de correlação de Pearson entre MQLs e Receita\n",
    "correlacao, p_valor = pearsonr(data[\"mqls_qualificados\"], data[\"receita\"])\n",
    "\n",
    "print(f\"Coeficiente de Correlação de Pearson: {correlacao}\")\n",
    "print(f\"Valor p: {p_valor}\")"
   ]
  },
  {
   "cell_type": "markdown",
   "metadata": {},
   "source": [
    "**1. Coeficiente de correlação de Pearson (-0.0407):**\n",
    "- O valor é muito próximo de 0, o que indica uma correlação muito fraca ou próxima de inexistente entre os **MQLs** e a **receita**.\n",
    "\n",
    "**2. Valor p (p=0.7381):**\n",
    "- O valor p é muito maior que 0.05, significa que a correlação observada entre MQLs e receita não é estatisticamente significativa."
   ]
  },
  {
   "cell_type": "code",
   "execution_count": 19,
   "metadata": {},
   "outputs": [
    {
     "data": {
      "image/png": "[encoded data removed]",
      "text/plain": [
       "<Figure size 1000x600 with 1 Axes>"
      ]
     },
     "metadata": {},
     "output_type": "display_data"
    }
   ],
   "source": [
    "# Gráfico de dispersão\n",
    "plt.figure(figsize=(10,6))\n",
    "sns.scatterplot(data=data, x=\"mqls_qualificados\", y=\"receita\", color=\"blue\")\n",
    "\n",
    "# Adicionar título e rótulos aos eixos\n",
    "plt.title(\"Relação entre MQLs e Receita\", fontsize=16)\n",
    "plt.xlabel(\"MQLs Qualificados\", fontsize=12)\n",
    "plt.ylabel(\"Receita\", fontsize=12)\n",
    "\n",
    "plt.show()"
   ]
  },
  {
   "cell_type": "markdown",
   "metadata": {},
   "source": [
    "**Há correlação entre dias de maior receita e dias de maior volume de leads qualificados (MQLs)?**\n",
    "\n",
    "- A correlação entre MQLs e receita é fraca ou inexistente.\n",
    "- Gerar mais MQLs qualificados não necessariamente resulta em aumento de receita."
   ]
  }
 ],
 "metadata": {
  "kernelspec": {
   "display_name": "Python 3",
   "language": "python",
   "name": "python3"
  },
  "language_info": {
   "codemirror_mode": {
    "name": "ipython",
    "version": 3
   },
   "file_extension": ".py",
   "mimetype": "text/x-python",
   "name": "python",
   "nbconvert_exporter": "python",
   "pygments_lexer": "ipython3",
   "version": "3.11.9"
  }
 },
 "nbformat": 4,
 "nbformat_minor": 2
}
